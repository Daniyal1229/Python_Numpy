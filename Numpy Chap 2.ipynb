{
 "cells": [
  {
   "cell_type": "code",
   "execution_count": 8,
   "id": "be66a65d",
   "metadata": {},
   "outputs": [
    {
     "name": "stdout",
     "output_type": "stream",
     "text": [
      "Enter the value of x:6\n",
      "The square of 6 is  36\n"
     ]
    }
   ],
   "source": [
    "# function : is a block of statements that are used to perform some specific task and can be used again and again\n",
    "def sqrfunc(x):\n",
    "    sqr=x*x\n",
    "    return sqr\n",
    "num=int(input(\"Enter the value of x:\"))\n",
    "res=sqrfunc(num)\n",
    "print(\"The square of\",num,\"is \",res)"
   ]
  },
  {
   "cell_type": "code",
   "execution_count": 9,
   "id": "6e4c00db",
   "metadata": {},
   "outputs": [
    {
     "name": "stdout",
     "output_type": "stream",
     "text": [
      "Enter the value of x:3\n",
      "The cube of 3 is  27\n"
     ]
    }
   ],
   "source": [
    "def cubefunc(x):\n",
    "    cube=x*x*x\n",
    "    return cube\n",
    "num=int(input(\"Enter the value of x:\"))\n",
    "res=cubefunc(num)\n",
    "print(\"The cube of\",num,\"is \",res)"
   ]
  },
  {
   "cell_type": "code",
   "execution_count": null,
   "id": "0b104f5d",
   "metadata": {},
   "outputs": [],
   "source": []
  }
 ],
 "metadata": {
  "kernelspec": {
   "display_name": "Python 3 (ipykernel)",
   "language": "python",
   "name": "python3"
  },
  "language_info": {
   "codemirror_mode": {
    "name": "ipython",
    "version": 3
   },
   "file_extension": ".py",
   "mimetype": "text/x-python",
   "name": "python",
   "nbconvert_exporter": "python",
   "pygments_lexer": "ipython3",
   "version": "3.9.13"
  }
 },
 "nbformat": 4,
 "nbformat_minor": 5
}
