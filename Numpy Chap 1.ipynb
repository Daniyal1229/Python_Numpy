{
 "cells": [
  {
   "cell_type": "code",
   "execution_count": 5,
   "id": "4f63a2f7",
   "metadata": {},
   "outputs": [
    {
     "name": "stdout",
     "output_type": "stream",
     "text": [
      "10\n",
      "20\n",
      "30\n",
      "40\n",
      "50\n"
     ]
    }
   ],
   "source": [
    "# list : lists are mutable you can create and also modify\n",
    "list1=[10,20,30,40,50]\n",
    "for i in list1:\n",
    "    print(i)"
   ]
  },
  {
   "cell_type": "code",
   "execution_count": 6,
   "id": "2863850c",
   "metadata": {},
   "outputs": [
    {
     "name": "stdout",
     "output_type": "stream",
     "text": [
      "[10, 20, 30, 40, 50]\n"
     ]
    }
   ],
   "source": [
    "print(list1)"
   ]
  },
  {
   "cell_type": "code",
   "execution_count": 7,
   "id": "87f157fa",
   "metadata": {},
   "outputs": [
    {
     "name": "stdout",
     "output_type": "stream",
     "text": [
      "10\n"
     ]
    }
   ],
   "source": [
    "print(list1[0])"
   ]
  },
  {
   "cell_type": "code",
   "execution_count": 8,
   "id": "068f7671",
   "metadata": {},
   "outputs": [
    {
     "name": "stdout",
     "output_type": "stream",
     "text": [
      "50\n"
     ]
    }
   ],
   "source": [
    "print(list1[-1])"
   ]
  },
  {
   "cell_type": "code",
   "execution_count": 14,
   "id": "7db109ad",
   "metadata": {},
   "outputs": [
    {
     "name": "stdout",
     "output_type": "stream",
     "text": [
      "[30, 40, 50]\n"
     ]
    }
   ],
   "source": [
    "print(list1[-3:])"
   ]
  },
  {
   "cell_type": "code",
   "execution_count": 15,
   "id": "a9522e25",
   "metadata": {},
   "outputs": [
    {
     "name": "stdout",
     "output_type": "stream",
     "text": [
      "[30, 40, 50]\n"
     ]
    }
   ],
   "source": [
    "print(list1[2:])"
   ]
  },
  {
   "cell_type": "code",
   "execution_count": 17,
   "id": "9010b1d2",
   "metadata": {},
   "outputs": [
    {
     "name": "stdout",
     "output_type": "stream",
     "text": [
      "5\n"
     ]
    }
   ],
   "source": [
    "print(len(list1))"
   ]
  },
  {
   "cell_type": "code",
   "execution_count": 20,
   "id": "e716a03c",
   "metadata": {},
   "outputs": [
    {
     "name": "stdout",
     "output_type": "stream",
     "text": [
      "10 20 30 40 50 "
     ]
    }
   ],
   "source": [
    "for j in list1:\n",
    "    print(j,end=\" \")"
   ]
  },
  {
   "cell_type": "code",
   "execution_count": 21,
   "id": "8e170cc4",
   "metadata": {},
   "outputs": [
    {
     "name": "stdout",
     "output_type": "stream",
     "text": [
      "[20, 30, 40, 50]\n"
     ]
    }
   ],
   "source": [
    "del list1[0]\n",
    "print(list1)"
   ]
  },
  {
   "cell_type": "code",
   "execution_count": 22,
   "id": "10e6bc24",
   "metadata": {},
   "outputs": [
    {
     "name": "stdout",
     "output_type": "stream",
     "text": [
      "[15, 25, 35, 45]\n"
     ]
    }
   ],
   "source": [
    "# append() :append the elements into the list\n",
    "list2=[]\n",
    "list2.append(15)\n",
    "list2.append(25)\n",
    "list2.append(35)\n",
    "list2.append(45)\n",
    "print(list2)"
   ]
  },
  {
   "cell_type": "code",
   "execution_count": 23,
   "id": "2784ebd5",
   "metadata": {},
   "outputs": [
    {
     "name": "stdout",
     "output_type": "stream",
     "text": [
      "[]\n"
     ]
    }
   ],
   "source": [
    "# clear method : makes the list empty\n",
    "list2.clear()\n",
    "print(list2)"
   ]
  },
  {
   "cell_type": "code",
   "execution_count": 25,
   "id": "0fa29aa0",
   "metadata": {},
   "outputs": [
    {
     "name": "stdout",
     "output_type": "stream",
     "text": [
      "[20, 30, 40, 50]\n"
     ]
    }
   ],
   "source": [
    "# copy method : content of one list is copied to another\n",
    "list2=list1.copy()\n",
    "print(list2)"
   ]
  },
  {
   "cell_type": "code",
   "execution_count": 26,
   "id": "c04cfdd3",
   "metadata": {},
   "outputs": [
    {
     "name": "stdout",
     "output_type": "stream",
     "text": [
      "2082168949120\n",
      "2082169130304\n"
     ]
    }
   ],
   "source": [
    "print(id(list1))\n",
    "print(id(list2))"
   ]
  },
  {
   "cell_type": "code",
   "execution_count": 28,
   "id": "eddfbbb7",
   "metadata": {},
   "outputs": [
    {
     "name": "stdout",
     "output_type": "stream",
     "text": [
      "6\n"
     ]
    }
   ],
   "source": [
    "# count method : frequently use during finding the frequency of a given number in the list\n",
    "list3=[10,20,15,10,25,30,10,35,40,10,45,50,10,60,65,70,10,75,80,90,100,1000]\n",
    "print(list3.count(10))"
   ]
  },
  {
   "cell_type": "code",
   "execution_count": 40,
   "id": "fee1eddf",
   "metadata": {},
   "outputs": [
    {
     "name": "stdout",
     "output_type": "stream",
     "text": [
      "[20, 30, 40, 50]\n",
      "[10, 20, 15, 10, 25, 30, 10, 35, 40, 10, 45, 50, 10, 60, 65, 70, 10, 75, 80, 90, 100, 1000]\n",
      "[20, 30, 40, 50, 10, 20, 15, 10, 25, 30, 10, 35, 40, 10, 45, 50, 10, 60, 65, 70, 10, 75, 80, 90, 100, 1000]\n"
     ]
    }
   ],
   "source": [
    "# extend method : to add elements to the existing list\n",
    "print(list1)\n",
    "print(list3)\n",
    "list1.extend(list3)\n",
    "print(list1)"
   ]
  },
  {
   "cell_type": "code",
   "execution_count": 44,
   "id": "7710fac1",
   "metadata": {},
   "outputs": [
    {
     "name": "stdout",
     "output_type": "stream",
     "text": [
      "1\n"
     ]
    }
   ],
   "source": [
    "# index method : to return the position of an element \n",
    "list4=[\"Raj\",99,\"kumar\",99]\n",
    "# print(list4.index(99,2,3)) 2 is starting index for search and 3 is an ending index\n",
    "print(list4.index(99))"
   ]
  },
  {
   "cell_type": "code",
   "execution_count": 45,
   "id": "b6d0b3f9",
   "metadata": {},
   "outputs": [
    {
     "name": "stdout",
     "output_type": "stream",
     "text": [
      "[2, 4, 6, 8, 10]\n"
     ]
    }
   ],
   "source": [
    "# insert method is used to insert at specific location in the list\n",
    "list5=[2,4,6,10]\n",
    "num=8\n",
    "index=3\n",
    "list5.insert(index,num)\n",
    "print(list5)"
   ]
  },
  {
   "cell_type": "code",
   "execution_count": 46,
   "id": "d5f3953f",
   "metadata": {},
   "outputs": [
    {
     "data": {
      "text/plain": [
       "10"
      ]
     },
     "execution_count": 46,
     "metadata": {},
     "output_type": "execute_result"
    }
   ],
   "source": [
    "# pop method : removes the last element from the list and also display it\n",
    "list5.pop()"
   ]
  },
  {
   "cell_type": "code",
   "execution_count": 47,
   "id": "b6de45b5",
   "metadata": {},
   "outputs": [
    {
     "name": "stdout",
     "output_type": "stream",
     "text": [
      "[2, 4, 6, 8]\n"
     ]
    }
   ],
   "source": [
    "print(list5)"
   ]
  },
  {
   "cell_type": "code",
   "execution_count": 49,
   "id": "485f7a0b",
   "metadata": {},
   "outputs": [
    {
     "name": "stdout",
     "output_type": "stream",
     "text": [
      "[1, 2, 99, 6, 23, 29, 36, 45, 56, 12, 62, 12, 100, 12]\n"
     ]
    }
   ],
   "source": [
    "# remove function remove the first occurance of the element \n",
    "list6=[1,2,99,6,23,29,12,36,45,56,12,62,12,100,12]\n",
    "list6.remove(12)\n",
    "print(list6)"
   ]
  },
  {
   "cell_type": "code",
   "execution_count": 50,
   "id": "403ae53d",
   "metadata": {},
   "outputs": [
    {
     "name": "stdout",
     "output_type": "stream",
     "text": [
      "[1, 2, 99, 6, 23, 29, 36, 45, 56, 62, 12, 100, 12]\n"
     ]
    }
   ],
   "source": [
    "list6.remove(12)\n",
    "print(list6)"
   ]
  },
  {
   "cell_type": "code",
   "execution_count": 51,
   "id": "a90fcc0b",
   "metadata": {},
   "outputs": [
    {
     "name": "stdout",
     "output_type": "stream",
     "text": [
      "[1, 2, 99, 6, 23, 29, 36, 45, 56, 62, 100, 12]\n"
     ]
    }
   ],
   "source": [
    "list6.remove(12)\n",
    "print(list6)"
   ]
  },
  {
   "cell_type": "code",
   "execution_count": 52,
   "id": "cb55c550",
   "metadata": {},
   "outputs": [
    {
     "name": "stdout",
     "output_type": "stream",
     "text": [
      "[1, 2, 99, 6, 23, 29, 36, 45, 56, 62, 100]\n"
     ]
    }
   ],
   "source": [
    "list6.remove(12)\n",
    "print(list6)"
   ]
  },
  {
   "cell_type": "code",
   "execution_count": 53,
   "id": "a77326c4",
   "metadata": {},
   "outputs": [
    {
     "ename": "ValueError",
     "evalue": "list.remove(x): x not in list",
     "output_type": "error",
     "traceback": [
      "\u001b[1;31m---------------------------------------------------------------------------\u001b[0m",
      "\u001b[1;31mValueError\u001b[0m                                Traceback (most recent call last)",
      "\u001b[1;32m~\\AppData\\Local\\Temp\\ipykernel_7584\\1400847880.py\u001b[0m in \u001b[0;36m<module>\u001b[1;34m\u001b[0m\n\u001b[1;32m----> 1\u001b[1;33m \u001b[0mlist6\u001b[0m\u001b[1;33m.\u001b[0m\u001b[0mremove\u001b[0m\u001b[1;33m(\u001b[0m\u001b[1;36m12\u001b[0m\u001b[1;33m)\u001b[0m\u001b[1;33m\u001b[0m\u001b[1;33m\u001b[0m\u001b[0m\n\u001b[0m\u001b[0;32m      2\u001b[0m \u001b[0mprint\u001b[0m\u001b[1;33m(\u001b[0m\u001b[0mlist6\u001b[0m\u001b[1;33m)\u001b[0m\u001b[1;33m\u001b[0m\u001b[1;33m\u001b[0m\u001b[0m\n",
      "\u001b[1;31mValueError\u001b[0m: list.remove(x): x not in list"
     ]
    }
   ],
   "source": [
    "list6.remove(12)\n",
    "print(list6)"
   ]
  },
  {
   "cell_type": "code",
   "execution_count": 55,
   "id": "a194ea47",
   "metadata": {},
   "outputs": [
    {
     "name": "stdout",
     "output_type": "stream",
     "text": [
      "[4, 3, 2, 1]\n"
     ]
    }
   ],
   "source": [
    "# reverse function : when you want to reverse the order of the list \n",
    "list7=[1,2,3,4]\n",
    "list7.reverse()\n",
    "print(list7)"
   ]
  },
  {
   "cell_type": "code",
   "execution_count": 56,
   "id": "69861903",
   "metadata": {},
   "outputs": [
    {
     "name": "stdout",
     "output_type": "stream",
     "text": [
      "[2, 6, 10, 10, 15, 19, 33, 35, 42, 45, 72, 83, 99]\n"
     ]
    }
   ],
   "source": [
    "# sort : sort the elements in the list in the assending order\n",
    "list8=[10,2,33,42,6,19,35,99,15,83,45,72,10]\n",
    "list8.sort()\n",
    "print(list8)"
   ]
  },
  {
   "cell_type": "code",
   "execution_count": null,
   "id": "6df58fd6",
   "metadata": {},
   "outputs": [],
   "source": []
  }
 ],
 "metadata": {
  "kernelspec": {
   "display_name": "Python 3 (ipykernel)",
   "language": "python",
   "name": "python3"
  },
  "language_info": {
   "codemirror_mode": {
    "name": "ipython",
    "version": 3
   },
   "file_extension": ".py",
   "mimetype": "text/x-python",
   "name": "python",
   "nbconvert_exporter": "python",
   "pygments_lexer": "ipython3",
   "version": "3.9.13"
  }
 },
 "nbformat": 4,
 "nbformat_minor": 5
}
